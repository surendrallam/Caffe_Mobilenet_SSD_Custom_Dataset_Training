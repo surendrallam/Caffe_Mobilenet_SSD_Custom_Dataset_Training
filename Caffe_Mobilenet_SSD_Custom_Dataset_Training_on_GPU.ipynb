{
  "nbformat": 4,
  "nbformat_minor": 0,
  "metadata": {
    "colab": {
      "name": "Caffe_Mobilenet_SSD_Custom_Dataset_Training_on_GPU",
      "provenance": [],
      "collapsed_sections": [],
      "mount_file_id": "11RPUOjpd_92sVC5Xy8VPl0EkwpwURk8j",
      "authorship_tag": "ABX9TyNDo8YSl/j3Q3HTNbI+GfCq",
      "include_colab_link": true
    },
    "kernelspec": {
      "display_name": "Python 3",
      "name": "python3"
    },
    "accelerator": "GPU"
  },
  "cells": [
    {
      "cell_type": "markdown",
      "metadata": {
        "id": "view-in-github",
        "colab_type": "text"
      },
      "source": [
        "<a href=\"https://colab.research.google.com/github/surendrallam/Caffe_Mobilenet_SSD_Custom_Dataset_Training/blob/main/Caffe_Mobilenet_SSD_Custom_Dataset_Training_on_GPU.ipynb\" target=\"_parent\"><img src=\"https://colab.research.google.com/assets/colab-badge.svg\" alt=\"Open In Colab\"/></a>"
      ]
    },
    {
      "cell_type": "markdown",
      "metadata": {
        "id": "tuV43lJZ2JdE"
      },
      "source": [
        "# Caffe Installation"
      ]
    },
    {
      "cell_type": "code",
      "metadata": {
        "id": "J4sseh3FYqPj"
      },
      "source": [
        "!apt install -y caffe-cuda\n",
        "!apt build-dep caffe-cuda"
      ],
      "execution_count": null,
      "outputs": []
    },
    {
      "cell_type": "code",
      "metadata": {
        "id": "wKQ2TDT4PLkb"
      },
      "source": [
        "!nvidia-smi\n",
        "!nvcc --version"
      ],
      "execution_count": null,
      "outputs": []
    },
    {
      "cell_type": "markdown",
      "metadata": {
        "id": "fmTH8FTn_JHu"
      },
      "source": [
        "\n",
        "## Installing necessary dependencies.\n"
      ]
    },
    {
      "cell_type": "code",
      "metadata": {
        "id": "8Rq91aX36SO_"
      },
      "source": [
        "!apt-get install -y --no-install-recommends libboost-all-dev\n",
        "!apt-get install libprotobuf-dev libleveldb-dev libsnappy-dev libopencv-dev libboost-all-dev libhdf5-serial-dev \\\n",
        "libgflags-dev libgoogle-glog-dev liblmdb-dev protobuf-compiler \n",
        "!apt-get install libgflags2.2 \n",
        "!apt-get install libgflags-dev\n",
        "!apt-get install libgoogle-glog-dev\n",
        "!apt-get install libhdf5-100\n",
        "!apt-get install libhdf5-serial-dev\n",
        "!apt-get install libhdf5-dev\n",
        "!apt-get install libhdf5-cpp-100\n",
        "!apt-get install libprotobuf-dev protobuf-compiler"
      ],
      "execution_count": null,
      "outputs": []
    },
    {
      "cell_type": "code",
      "metadata": {
        "id": "8NUD8wXg0HA8"
      },
      "source": [
        "\n",
        "!apt-get install libgflags2.2 \n",
        "!apt-get install libgflags-dev\n",
        "!apt-get install libgoogle-glog-dev\n",
        "!apt-get install libhdf5-100\n",
        "!apt-get install libhdf5-serial-dev\n",
        "!apt-get install libhdf5-dev\n",
        "!apt-get install libhdf5-cpp-100\n",
        "!apt-get install libprotobuf-dev protobuf-compiler"
      ],
      "execution_count": null,
      "outputs": []
    },
    {
      "cell_type": "markdown",
      "metadata": {
        "id": "4oH1t2UQ_IAm"
      },
      "source": [
        "\n",
        "##  Cloning Caffe"
      ]
    },
    {
      "cell_type": "code",
      "metadata": {
        "id": "Szsoyb9K4Fa5"
      },
      "source": [
        "!git clone https://github.com/weiliu89/caffe.git\n",
        "%cd caffe\n",
        "!git checkout ssd\n",
        "%cp Makefile.config.example Makefile.config"
      ],
      "execution_count": null,
      "outputs": []
    },
    {
      "cell_type": "markdown",
      "metadata": {
        "id": "v1_TE7Zsz29j"
      },
      "source": [
        "## Modifying Makefile"
      ]
    },
    {
      "cell_type": "code",
      "metadata": {
        "id": "7iZ9sHGTzjhE"
      },
      "source": [
        "!sed -i 's/-gencode arch=compute_20/#-gencode arch=compute_20/' Makefile.config #old cuda versions won't compile \n",
        "!sed -i 's/\\/usr\\/local\\/include/\\/usr\\/local\\/include \\/usr\\/include\\/hdf5\\/serial\\//'  Makefile.config #one of the 4 things needed to fix hdf5 issues\n",
        "!sed -i 's/# OPENCV_VERSION := 3/OPENCV_VERSION := 3/' Makefile.config #We actually use opencv 4.1.2, but it's similar enough to opencv 3.\n",
        "!sed -i 's/code=compute_61/code=compute_61 -gencode=arch=compute_70,code=sm_70 -gencode=arch=compute_75,code=sm_75 -gencode=arch=compute_75,code=compute_75/' Makefile.config #support for new GPUs"
      ],
      "execution_count": null,
      "outputs": []
    },
    {
      "cell_type": "markdown",
      "metadata": {
        "id": "82g9LQR8ADsN"
      },
      "source": [
        "## Installing necessary Python packages."
      ]
    },
    {
      "cell_type": "code",
      "metadata": {
        "id": "QPl5ixQc5ONl"
      },
      "source": [
        "!apt-get install python3-pip\n",
        "!pip install scikit-image protobuf\n",
        "%cd /content/caffe/python\n",
        "!for req in $(cat requirements.txt); do pip install $req; done"
      ],
      "execution_count": null,
      "outputs": []
    },
    {
      "cell_type": "code",
      "metadata": {
        "id": "d3LTA-UT6i1B"
      },
      "source": [
        "%cd /usr/lib/x86_64-linux-gnu/\n",
        "# %ls -al | grep \"libhdf5_serial\"\n",
        "!ln -s /usr/lib/x86_64-linux-gnu/libhdf5_serial.so.100.0.1 /usr/lib/x86_64-linux-gnu/libhdf5.so\n",
        "!ln -s /usr/lib/x86_64-linux-gnu/libhdf5_serial_hl.so.100.0.0 /usr/lib/x86_64-linux-gnu/libhdf5_hl.so\n",
        "%env CPATH=\"/usr/include/hdf5/serial/\"\n",
        "!echo $CPATH"
      ],
      "execution_count": null,
      "outputs": []
    },
    {
      "cell_type": "markdown",
      "metadata": {
        "id": "1J2ktG-M1bN8"
      },
      "source": [
        "## Making Caffe"
      ]
    },
    {
      "cell_type": "code",
      "metadata": {
        "id": "4ic0uMAj7Ofz"
      },
      "source": [
        "%cd /content/caffe\n",
        "# !make clean\n",
        "!make all\n",
        "!echo \"Done Make all\"\n",
        "!make test\n",
        "!echo \"Done Make test\"\n",
        "!make runtest\n",
        "!echo \"Done Make runtest\""
      ],
      "execution_count": null,
      "outputs": []
    },
    {
      "cell_type": "code",
      "metadata": {
        "id": "2c_1D0faFubc"
      },
      "source": [
        "!make test\n",
        "!echo \"Done Make test\""
      ],
      "execution_count": null,
      "outputs": []
    },
    {
      "cell_type": "code",
      "metadata": {
        "id": "Rm9QbKBZFxKD"
      },
      "source": [
        "!make runtest\n",
        "!echo \"Done Make runtest\""
      ],
      "execution_count": null,
      "outputs": []
    },
    {
      "cell_type": "code",
      "metadata": {
        "id": "uVCNhhiKFzuE"
      },
      "source": [
        "!make pycaffe\n",
        "!echo \"Done Make pycaffe\""
      ],
      "execution_count": null,
      "outputs": []
    },
    {
      "cell_type": "markdown",
      "metadata": {
        "id": "uOC14xSf1Bcb"
      },
      "source": [
        "## Verifying Caffe"
      ]
    },
    {
      "cell_type": "code",
      "metadata": {
        "id": "5nQbyqJn1AvU"
      },
      "source": [
        "import cv2\n",
        "print(cv2.__version__)\n",
        "import caffe"
      ],
      "execution_count": null,
      "outputs": []
    },
    {
      "cell_type": "markdown",
      "metadata": {
        "id": "MHKWH8aA3TM0"
      },
      "source": [
        "# Mobilenet-SSD traning using Custom dataset "
      ]
    },
    {
      "cell_type": "markdown",
      "metadata": {
        "id": "IzlNjFx63jD0"
      },
      "source": [
        "## Cloning Mobilenet-SSD"
      ]
    },
    {
      "cell_type": "code",
      "metadata": {
        "id": "4whEZizrC40S"
      },
      "source": [
        "# %cd /content/\n",
        "# !git clone https://github.com/chuanqi305/MobileNet-SSD.git\n",
        "%cd /content/MobileNet-SSD/\n",
        "# !ls"
      ],
      "execution_count": null,
      "outputs": []
    },
    {
      "cell_type": "code",
      "metadata": {
        "id": "ISV_VqCl_mhz"
      },
      "source": [
        "%cd /content/MobileNet-SSD/\n",
        "# !chmod +x train.sh\n",
        "!./train.sh"
      ],
      "execution_count": null,
      "outputs": []
    },
    {
      "cell_type": "code",
      "metadata": {
        "id": "GkLx8lSRfS0u"
      },
      "source": [
        "from google.colab import drive\n",
        "drive.mount('/content/gdrive')\n",
        "!echo \"Mounted Google Drive\""
      ],
      "execution_count": null,
      "outputs": []
    },
    {
      "cell_type": "code",
      "metadata": {
        "id": "EbssM6w79e67"
      },
      "source": [
        "# Copying caffe directory from G-Drive\n",
        "!cp -r /content/gdrive/MyDrive/caffe /content/"
      ],
      "execution_count": null,
      "outputs": []
    },
    {
      "cell_type": "code",
      "metadata": {
        "colab": {
          "background_save": true
        },
        "id": "6ZrWEl8N9TXG"
      },
      "source": [
        "# Copying caffe directory to G-Drive\n",
        "!cp -r /content/caffe /content/MobileNet-SSD/ /content/gdrive/MyDrive/"
      ],
      "execution_count": null,
      "outputs": []
    },
    {
      "cell_type": "code",
      "metadata": {
        "colab": {
          "base_uri": "https://localhost:8080/"
        },
        "id": "GH7oBrrjfxtL",
        "outputId": "c90c27ba-84b5-4ce8-cc03-be6a1e736dbd"
      },
      "source": [
        "!cp -r caffe/ /content/gdrive/"
      ],
      "execution_count": null,
      "outputs": [
        {
          "output_type": "stream",
          "text": [
            "cp: cannot stat 'caffe/': No such file or directory\n"
          ],
          "name": "stdout"
        }
      ]
    },
    {
      "cell_type": "markdown",
      "metadata": {
        "id": "CbJicNWTGXFN"
      },
      "source": [
        "# Reference:\n",
        "* https://askubuntu.com/questions/960238/nvcc-fatal-unsupported-gpu-architecture-compute-20\n",
        "* https://stackoverflow.com/questions/37007495/caffe-didnt-see-hdf5-h-when-compiling/44912342\n",
        "* https://github.com/BVLC/caffe/issues/4621#issuecomment-243124779\n",
        "* https://colab.research.google.com/github/Huxwell/caffe-colab/blob/main/caffe_details.ipynb#scrollTo=TpMhijZ6-9hy\n",
        "* https://filip-drapejkowski.medium.com/caffe-in-google-colab-2021-2d730989c849"
      ]
    }
  ]
}